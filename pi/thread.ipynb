{
 "cells": [
  {
   "cell_type": "code",
   "execution_count": 1,
   "metadata": {},
   "outputs": [],
   "source": [
    "import RPi.GPIO as GPIO\n",
    "import time\n",
    "import dht11\n",
    "from threading import Thread\n",
    "GPIO.setwarnings(False)\n",
    "GPIO.setmode(GPIO.BCM)\n",
    "GPIO.cleanup()\n",
    "pir = 15\n",
    "GPIO.setup(pir, GPIO.IN)\n",
    "moved = 0\n",
    "time.sleep(2)      #give sensor to startup\n",
    "dht = dht11.DHT11(pin = 2)     #GPIO.2 (i.e. physical pin 3)"
   ]
  },
  {
   "cell_type": "code",
   "execution_count": 2,
   "metadata": {},
   "outputs": [],
   "source": [
    "def dht_data():\n",
    "    result = dht.read()\n",
    "\n",
    "    if result.is_valid():\n",
    "        print(time.strftime('%d/%m/%y')+\" \"+time.strftime('%H:%M')+\"\\tTemp={0:0.1f}C  Humidity={1:0.1f}%\".format(result.temperature, result.humidity))\n",
    "        \n",
    "dht_thread = Thread(target=dht_data)"
   ]
  },
  {
   "cell_type": "code",
   "execution_count": 3,
   "metadata": {},
   "outputs": [],
   "source": [
    "def pir_data():\n",
    "    moved = GPIO.input(pir)\n",
    "    if moved == 1:\n",
    "        print(\"Motion detected!\")\n",
    "\n",
    "pir_thread = Thread(target=pir_data)"
   ]
  },
  {
   "cell_type": "code",
   "execution_count": 4,
   "metadata": {},
   "outputs": [],
   "source": [
    "while True:\n",
    "    try:\n",
    "        dht_thread.start()\n",
    "    except(RuntimeError):\n",
    "        pass\n",
    "\n",
    "    try:\n",
    "        pir_thread.start()\n",
    "    except(RuntimeError):\n",
    "        pass"
   ]
  }
 ],
 "metadata": {
  "kernelspec": {
   "display_name": "Python 3",
   "language": "python",
   "name": "python3"
  },
  "language_info": {
   "codemirror_mode": {
    "name": "ipython",
    "version": 3
   },
   "file_extension": ".py",
   "mimetype": "text/x-python",
   "name": "python",
   "nbconvert_exporter": "python",
   "pygments_lexer": "ipython3",
   "version": "3.11.2"
  }
 },
 "nbformat": 4,
 "nbformat_minor": 2
}
